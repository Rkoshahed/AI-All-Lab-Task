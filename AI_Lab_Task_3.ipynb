{
  "nbformat": 4,
  "nbformat_minor": 0,
  "metadata": {
    "colab": {
      "name": "AI Lab Task 3.ipynb",
      "provenance": [],
      "authorship_tag": "ABX9TyO0YTA9Z23F/+dC/s/ZWlCI",
      "include_colab_link": true
    },
    "kernelspec": {
      "name": "python3",
      "display_name": "Python 3"
    },
    "language_info": {
      "name": "python"
    }
  },
  "cells": [
    {
      "cell_type": "markdown",
      "metadata": {
        "id": "view-in-github",
        "colab_type": "text"
      },
      "source": [
        "<a href=\"https://colab.research.google.com/github/Rkoshahed/AI-All-Lab-Task/blob/master/AI_Lab_Task_3.ipynb\" target=\"_parent\"><img src=\"https://colab.research.google.com/assets/colab-badge.svg\" alt=\"Open In Colab\"/></a>"
      ]
    },
    {
      "cell_type": "markdown",
      "metadata": {
        "id": "3XLs75Snz2wz"
      },
      "source": [
        "**Mount Google Drive**"
      ]
    },
    {
      "cell_type": "code",
      "metadata": {
        "colab": {
          "base_uri": "https://localhost:8080/"
        },
        "id": "ZfoeNVVoz5sM",
        "outputId": "c0fa3189-27c9-4f54-e04c-56b0b06cf558"
      },
      "source": [
        "from google.colab import drive\n",
        "drive.mount('/content/gdrive')\n"
      ],
      "execution_count": 1,
      "outputs": [
        {
          "output_type": "stream",
          "name": "stdout",
          "text": [
            "Mounted at /content/gdrive\n"
          ]
        }
      ]
    },
    {
      "cell_type": "markdown",
      "metadata": {
        "id": "0nLAIHg40V3z"
      },
      "source": [
        "**Shahed's Lab Work**"
      ]
    },
    {
      "cell_type": "code",
      "metadata": {
        "colab": {
          "base_uri": "https://localhost:8080/"
        },
        "id": "EfVZiD-l0b1l",
        "outputId": "2ef24809-f666-4c2e-a9ff-c3752c704003"
      },
      "source": [
        "courses = []\n",
        "choice = 'random'\n",
        "def line():\n",
        "    print('---------------------------')\n",
        "\n",
        "def show_menu():\n",
        "    line()\n",
        "    print('MENU')\n",
        "    line()\n",
        "    print('1. Add courses')\n",
        "    print('2. Remove Courses from te list')\n",
        "    print('3. View courses list')\n",
        "    print('4. Exit')\n",
        "    line()\n",
        "    choice = input('Enter your choice: ')\n",
        "    return choice\n",
        "\n",
        "while choice != '4':\n",
        "    choice = show_menu()\n",
        "    if choice == '1':\n",
        "            course = input('Enter the course name: ')\n",
        "            courses.append(course)\n",
        "            print('Courses', course, 'added')\n",
        "    elif choice == '2':\n",
        "        course = input('which courses is done or you want to remove ')\n",
        "        if course in courses:\n",
        "            courses.remove(course)\n",
        "            print('Removed course', course)\n",
        "        else:\n",
        "            print('Could not find course', course)\n",
        "    elif choice == '3':\n",
        "        print('List of your all course:')\n",
        "        for course in courses:\n",
        "            print(course)\n",
        "    elif choice == '4':\n",
        "        print('Goodbye!')\n",
        "    else:\n",
        "        print('Please enter one of 1, 2, 3 ,4 ')"
      ],
      "execution_count": 2,
      "outputs": [
        {
          "output_type": "stream",
          "name": "stdout",
          "text": [
            "---------------------------\n",
            "MENU\n",
            "---------------------------\n",
            "1. Add courses\n",
            "2. Remove Courses from te list\n",
            "3. View courses list\n",
            "4. Exit\n",
            "---------------------------\n",
            "Enter your choice: 1\n",
            "Enter the course name: CSE 316\n",
            "Courses CSE 316 added\n",
            "---------------------------\n",
            "MENU\n",
            "---------------------------\n",
            "1. Add courses\n",
            "2. Remove Courses from te list\n",
            "3. View courses list\n",
            "4. Exit\n",
            "---------------------------\n",
            "Enter your choice: 1\n",
            "Enter the course name: CSE 315\n",
            "Courses CSE 315 added\n",
            "---------------------------\n",
            "MENU\n",
            "---------------------------\n",
            "1. Add courses\n",
            "2. Remove Courses from te list\n",
            "3. View courses list\n",
            "4. Exit\n",
            "---------------------------\n",
            "Enter your choice: 3\n",
            "List of your all course:\n",
            "CSE 316\n",
            "CSE 315\n",
            "---------------------------\n",
            "MENU\n",
            "---------------------------\n",
            "1. Add courses\n",
            "2. Remove Courses from te list\n",
            "3. View courses list\n",
            "4. Exit\n",
            "---------------------------\n",
            "Enter your choice: 1\n",
            "Enter the course name: CSE 311\n",
            "Courses CSE 311 added\n",
            "---------------------------\n",
            "MENU\n",
            "---------------------------\n",
            "1. Add courses\n",
            "2. Remove Courses from te list\n",
            "3. View courses list\n",
            "4. Exit\n",
            "---------------------------\n",
            "Enter your choice: 2\n",
            "which courses is done or you want to remove CSE 311\n",
            "Removed course CSE 311\n",
            "---------------------------\n",
            "MENU\n",
            "---------------------------\n",
            "1. Add courses\n",
            "2. Remove Courses from te list\n",
            "3. View courses list\n",
            "4. Exit\n",
            "---------------------------\n",
            "Enter your choice: 3\n",
            "List of your all course:\n",
            "CSE 316\n",
            "CSE 315\n",
            "---------------------------\n",
            "MENU\n",
            "---------------------------\n",
            "1. Add courses\n",
            "2. Remove Courses from te list\n",
            "3. View courses list\n",
            "4. Exit\n",
            "---------------------------\n",
            "Enter your choice: 4\n",
            "Goodbye!\n"
          ]
        }
      ]
    }
  ]
}